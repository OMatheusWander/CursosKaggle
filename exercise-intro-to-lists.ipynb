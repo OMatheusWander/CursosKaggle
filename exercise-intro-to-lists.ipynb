{
 "cells": [
  {
   "cell_type": "markdown",
   "id": "d0fa15b9",
   "metadata": {
    "papermill": {
     "duration": 0.014183,
     "end_time": "2023-09-02T22:32:26.716281",
     "exception": false,
     "start_time": "2023-09-02T22:32:26.702098",
     "status": "completed"
    },
    "tags": []
   },
   "source": [
    "**This notebook is an exercise in the [Intro to Programming](https://www.kaggle.com/learn/intro-to-programming) course.  You can reference the tutorial at [this link](https://www.kaggle.com/alexisbcook/intro-to-lists).**\n",
    "\n",
    "---\n"
   ]
  },
  {
   "cell_type": "markdown",
   "id": "03341e40",
   "metadata": {
    "papermill": {
     "duration": 0.009537,
     "end_time": "2023-09-02T22:32:26.738022",
     "exception": false,
     "start_time": "2023-09-02T22:32:26.728485",
     "status": "completed"
    },
    "tags": []
   },
   "source": [
    "In the tutorial, you learned how to define and modify Python lists.  In this exercise, you will use your new knowledge to solve several problems.\n",
    "\n",
    "# Set up the notebook\n",
    "\n",
    "Run the next code cell without changes to set up the notebook."
   ]
  },
  {
   "cell_type": "code",
   "execution_count": 1,
   "id": "c822fe85",
   "metadata": {
    "execution": {
     "iopub.execute_input": "2023-09-02T22:32:26.760218Z",
     "iopub.status.busy": "2023-09-02T22:32:26.759264Z",
     "iopub.status.idle": "2023-09-02T22:32:27.280598Z",
     "shell.execute_reply": "2023-09-02T22:32:27.279400Z"
    },
    "papermill": {
     "duration": 0.535527,
     "end_time": "2023-09-02T22:32:27.283239",
     "exception": false,
     "start_time": "2023-09-02T22:32:26.747712",
     "status": "completed"
    },
    "tags": []
   },
   "outputs": [
    {
     "name": "stdout",
     "output_type": "stream",
     "text": [
      "Setup complete.\n"
     ]
    }
   ],
   "source": [
    "from learntools.core import binder\n",
    "binder.bind(globals())\n",
    "from learntools.intro_to_programming.ex5 import *\n",
    "print('Setup complete.')"
   ]
  },
  {
   "cell_type": "markdown",
   "id": "281e310f",
   "metadata": {
    "papermill": {
     "duration": 0.009255,
     "end_time": "2023-09-02T22:32:27.302353",
     "exception": false,
     "start_time": "2023-09-02T22:32:27.293098",
     "status": "completed"
    },
    "tags": []
   },
   "source": [
    "# Question 1\n",
    "\n",
    "You own a restaurant with five food dishes, organized in the Python list `menu` below.  One day, you decide to:\n",
    "- remove bean soup (`'bean soup'`) from the menu, and\n",
    "- add roasted beet salad (`'roasted beet salad'`) to the menu.\n",
    "\n",
    "Implement this change to the list below.  While completing this task, \n",
    "- do not change the line that creates the `menu` list.  \n",
    "- your answer should use `.remove()` and `.append()`.  "
   ]
  },
  {
   "cell_type": "code",
   "execution_count": 2,
   "id": "62444b76",
   "metadata": {
    "execution": {
     "iopub.execute_input": "2023-09-02T22:32:27.324756Z",
     "iopub.status.busy": "2023-09-02T22:32:27.323758Z",
     "iopub.status.idle": "2023-09-02T22:32:27.335437Z",
     "shell.execute_reply": "2023-09-02T22:32:27.334245Z"
    },
    "papermill": {
     "duration": 0.025334,
     "end_time": "2023-09-02T22:32:27.337851",
     "exception": false,
     "start_time": "2023-09-02T22:32:27.312517",
     "status": "completed"
    },
    "tags": []
   },
   "outputs": [
    {
     "data": {
      "application/javascript": [
       "parent.postMessage({\"jupyterEvent\": \"custom.exercise_interaction\", \"data\": {\"outcomeType\": 1, \"valueTowardsCompletion\": 0.2, \"interactionType\": 1, \"questionType\": 2, \"questionId\": \"1_FoodMenu\", \"learnToolsVersion\": \"0.3.4\", \"failureMessage\": \"\", \"exceptionClass\": \"\", \"trace\": \"\"}}, \"*\")"
      ],
      "text/plain": [
       "<IPython.core.display.Javascript object>"
      ]
     },
     "metadata": {},
     "output_type": "display_data"
    },
    {
     "data": {
      "text/markdown": [
       "<span style=\"color:#33cc33\">Correct</span>"
      ],
      "text/plain": [
       "Correct"
      ]
     },
     "metadata": {},
     "output_type": "display_data"
    }
   ],
   "source": [
    "# Do not change: Initial menu for your restaurant\n",
    "menu = ['stewed meat with onions', 'bean soup', 'risotto with trout and shrimp',\n",
    "       'fish soup with cream and onion', 'gyro']\n",
    "menu.remove('bean soup')\n",
    "menu.append('roasted beet salad')\n",
    "# TODO: remove 'bean soup', and add 'roasted beet salad' to the end of the menu\n",
    "____\n",
    "\n",
    "# Do not change: Check your answer\n",
    "q1.check()"
   ]
  },
  {
   "cell_type": "code",
   "execution_count": 3,
   "id": "7c6ee89d",
   "metadata": {
    "execution": {
     "iopub.execute_input": "2023-09-02T22:32:27.359622Z",
     "iopub.status.busy": "2023-09-02T22:32:27.359256Z",
     "iopub.status.idle": "2023-09-02T22:32:27.363690Z",
     "shell.execute_reply": "2023-09-02T22:32:27.362636Z"
    },
    "papermill": {
     "duration": 0.01838,
     "end_time": "2023-09-02T22:32:27.366204",
     "exception": false,
     "start_time": "2023-09-02T22:32:27.347824",
     "status": "completed"
    },
    "tags": []
   },
   "outputs": [],
   "source": [
    "# Uncomment to see a hint\n",
    "#q1.hint()\n",
    "\n",
    "# Uncomment to see the solution\n",
    "#q1.solution()"
   ]
  },
  {
   "cell_type": "markdown",
   "id": "9ef481bc",
   "metadata": {
    "papermill": {
     "duration": 0.010086,
     "end_time": "2023-09-02T22:32:27.386476",
     "exception": false,
     "start_time": "2023-09-02T22:32:27.376390",
     "status": "completed"
    },
    "tags": []
   },
   "source": [
    "# Question 2\n",
    "\n",
    "The list `num_customers` contains the number of customers who came into your restaurant every day over the last month (which lasted thirty days).  Fill in values for each of the following:\n",
    "- `avg_first_seven` - average number of customers who visited in the first seven days\n",
    "- `avg_last_seven` - average number of customers who visited in the last seven days\n",
    "- `max_month` - number of customers on the day that got the most customers in the last month\n",
    "- `min_month` - number of customers on the day that got the least customers in the last month\n",
    "\n",
    "Answer this question by writing code.  For instance, if you have to find the minimum value in a list, use `min()` instead of scanning for the smallest value and directly filling in a number."
   ]
  },
  {
   "cell_type": "code",
   "execution_count": 4,
   "id": "4d136a93",
   "metadata": {
    "execution": {
     "iopub.execute_input": "2023-09-02T22:32:27.409731Z",
     "iopub.status.busy": "2023-09-02T22:32:27.408606Z",
     "iopub.status.idle": "2023-09-02T22:32:27.422358Z",
     "shell.execute_reply": "2023-09-02T22:32:27.421127Z"
    },
    "papermill": {
     "duration": 0.028015,
     "end_time": "2023-09-02T22:32:27.424706",
     "exception": false,
     "start_time": "2023-09-02T22:32:27.396691",
     "status": "completed"
    },
    "tags": []
   },
   "outputs": [
    {
     "data": {
      "application/javascript": [
       "parent.postMessage({\"jupyterEvent\": \"custom.exercise_interaction\", \"data\": {\"outcomeType\": 4, \"interactionType\": 1, \"questionType\": 1, \"questionId\": \"2_NumCustomers\", \"learnToolsVersion\": \"0.3.4\", \"valueTowardsCompletion\": 0.0, \"failureMessage\": \"\", \"exceptionClass\": \"\", \"trace\": \"\"}}, \"*\")"
      ],
      "text/plain": [
       "<IPython.core.display.Javascript object>"
      ]
     },
     "metadata": {},
     "output_type": "display_data"
    },
    {
     "data": {
      "text/markdown": [
       "<span style=\"color:#ccaa33\">Check:</span> When you've updated the starter code, `check()` will tell you whether your code is correct. You need to update the code that creates variables `avg_first_seven`, `avg_last_seven`, `max_month`, `min_month`"
      ],
      "text/plain": [
       "Check: When you've updated the starter code, `check()` will tell you whether your code is correct. You need to update the code that creates variables `avg_first_seven`, `avg_last_seven`, `max_month`, `min_month`"
      ]
     },
     "metadata": {},
     "output_type": "display_data"
    }
   ],
   "source": [
    "# Do not change: Number of customers each day for the last month\n",
    "num_customers = [137, 147, 135, 128, 170, 174, 165, 146, 126, 159,\n",
    "                 141, 148, 132, 147, 168, 153, 170, 161, 148, 152,\n",
    "                 141, 151, 131, 149, 164, 163, 143, 143, 166, 171]\n",
    "\n",
    "# TODO: Fill in values for the variables below\n",
    "avg_first_seven = ____ \n",
    "avg_last_seven = ____ \n",
    "max_month = ____\n",
    "min_month = ____\n",
    "\n",
    "# Do not change: Check your answer\n",
    "q2.check()"
   ]
  },
  {
   "cell_type": "code",
   "execution_count": 5,
   "id": "c49ef5e9",
   "metadata": {
    "execution": {
     "iopub.execute_input": "2023-09-02T22:32:27.447905Z",
     "iopub.status.busy": "2023-09-02T22:32:27.447414Z",
     "iopub.status.idle": "2023-09-02T22:32:27.452768Z",
     "shell.execute_reply": "2023-09-02T22:32:27.451622Z"
    },
    "papermill": {
     "duration": 0.019474,
     "end_time": "2023-09-02T22:32:27.454943",
     "exception": false,
     "start_time": "2023-09-02T22:32:27.435469",
     "status": "completed"
    },
    "tags": []
   },
   "outputs": [],
   "source": [
    "# Uncomment to see a hint\n",
    "#q2.hint()\n",
    "\n",
    "# Uncomment to see the solution\n",
    "#q2.solution()"
   ]
  },
  {
   "cell_type": "markdown",
   "id": "37f714ab",
   "metadata": {
    "papermill": {
     "duration": 0.010353,
     "end_time": "2023-09-02T22:32:27.476539",
     "exception": false,
     "start_time": "2023-09-02T22:32:27.466186",
     "status": "completed"
    },
    "tags": []
   },
   "source": [
    "# Question 3\n",
    "\n",
    "In the tutorial, we gave an example of a Python string with information that was better as a list."
   ]
  },
  {
   "cell_type": "code",
   "execution_count": 6,
   "id": "e25dce45",
   "metadata": {
    "execution": {
     "iopub.execute_input": "2023-09-02T22:32:27.499647Z",
     "iopub.status.busy": "2023-09-02T22:32:27.499021Z",
     "iopub.status.idle": "2023-09-02T22:32:27.503944Z",
     "shell.execute_reply": "2023-09-02T22:32:27.503071Z"
    },
    "papermill": {
     "duration": 0.019143,
     "end_time": "2023-09-02T22:32:27.506197",
     "exception": false,
     "start_time": "2023-09-02T22:32:27.487054",
     "status": "completed"
    },
    "tags": []
   },
   "outputs": [],
   "source": [
    "flowers = \"pink primrose,hard-leaved pocket orchid,canterbury bells,sweet pea,english marigold,tiger lily,moon orchid,bird of paradise,monkshood,globe thistle\""
   ]
  },
  {
   "cell_type": "markdown",
   "id": "f1622cfb",
   "metadata": {
    "papermill": {
     "duration": 0.010322,
     "end_time": "2023-09-02T22:32:27.527275",
     "exception": false,
     "start_time": "2023-09-02T22:32:27.516953",
     "status": "completed"
    },
    "tags": []
   },
   "source": [
    "You can actually use Python to quickly turn this string into a list with `.split()`.  In the parentheses, we need to provide the character should be used to mark the end of one list item and the beginning of another, and enclose it in quotation marks.  In this case, that character is a comma."
   ]
  },
  {
   "cell_type": "code",
   "execution_count": 7,
   "id": "1b2eed65",
   "metadata": {
    "execution": {
     "iopub.execute_input": "2023-09-02T22:32:27.550773Z",
     "iopub.status.busy": "2023-09-02T22:32:27.549966Z",
     "iopub.status.idle": "2023-09-02T22:32:27.556419Z",
     "shell.execute_reply": "2023-09-02T22:32:27.555172Z"
    },
    "papermill": {
     "duration": 0.021013,
     "end_time": "2023-09-02T22:32:27.558972",
     "exception": false,
     "start_time": "2023-09-02T22:32:27.537959",
     "status": "completed"
    },
    "tags": []
   },
   "outputs": [
    {
     "name": "stdout",
     "output_type": "stream",
     "text": [
      "['pink primrose', 'hard-leaved pocket orchid', 'canterbury bells', 'sweet pea', 'english marigold', 'tiger lily', 'moon orchid', 'bird of paradise', 'monkshood', 'globe thistle']\n"
     ]
    }
   ],
   "source": [
    " print(flowers.split(\",\"))"
   ]
  },
  {
   "cell_type": "markdown",
   "id": "1198628a",
   "metadata": {
    "papermill": {
     "duration": 0.010433,
     "end_time": "2023-09-02T22:32:27.580198",
     "exception": false,
     "start_time": "2023-09-02T22:32:27.569765",
     "status": "completed"
    },
    "tags": []
   },
   "source": [
    "Now it is your turn to try this out!  Create two Python lists:\n",
    "- `letters` should be a Python list where each entry is an uppercase letter of the English alphabet.  For instance, the first two entries should be `\"A\"` and `\"B\"`, and the final two entries should be `\"Y\"` and `\"Z\"`.  Use the string `alphabet` to create this list.\n",
    "- `address` should be a Python list where each row in `address` is a different item in the list.  Currently, each row in `address` is separated by a comma. "
   ]
  },
  {
   "cell_type": "code",
   "execution_count": 8,
   "id": "8e991ca5",
   "metadata": {
    "execution": {
     "iopub.execute_input": "2023-09-02T22:32:27.604138Z",
     "iopub.status.busy": "2023-09-02T22:32:27.603320Z",
     "iopub.status.idle": "2023-09-02T22:32:27.613354Z",
     "shell.execute_reply": "2023-09-02T22:32:27.612269Z"
    },
    "papermill": {
     "duration": 0.024605,
     "end_time": "2023-09-02T22:32:27.615711",
     "exception": false,
     "start_time": "2023-09-02T22:32:27.591106",
     "status": "completed"
    },
    "tags": []
   },
   "outputs": [
    {
     "data": {
      "application/javascript": [
       "parent.postMessage({\"jupyterEvent\": \"custom.exercise_interaction\", \"data\": {\"outcomeType\": 4, \"interactionType\": 1, \"questionType\": 1, \"questionId\": \"3_SplitString\", \"learnToolsVersion\": \"0.3.4\", \"valueTowardsCompletion\": 0.0, \"failureMessage\": \"\", \"exceptionClass\": \"\", \"trace\": \"\"}}, \"*\")"
      ],
      "text/plain": [
       "<IPython.core.display.Javascript object>"
      ]
     },
     "metadata": {},
     "output_type": "display_data"
    },
    {
     "data": {
      "text/markdown": [
       "<span style=\"color:#ccaa33\">Check:</span> When you've updated the starter code, `check()` will tell you whether your code is correct. You need to update the code that creates variables `letters`, `formatted_address`"
      ],
      "text/plain": [
       "Check: When you've updated the starter code, `check()` will tell you whether your code is correct. You need to update the code that creates variables `letters`, `formatted_address`"
      ]
     },
     "metadata": {},
     "output_type": "display_data"
    }
   ],
   "source": [
    "# DO not change: Define two Python strings\n",
    "alphabet = \"A.B.C.D.E.F.G.H.I.J.K.L.M.N.O.P.Q.R.S.T.U.V.W.X.Y.Z\"\n",
    "address = \"Mr. H. Potter,The cupboard under the Stairs,4 Privet Drive,Little Whinging,Surrey\"\n",
    "\n",
    "# TODO: Convert strings into Python lists\n",
    "letters = ____\n",
    "formatted_address = ____\n",
    "\n",
    "# Do not change: Check your answer\n",
    "q3.check()"
   ]
  },
  {
   "cell_type": "code",
   "execution_count": 9,
   "id": "73600271",
   "metadata": {
    "execution": {
     "iopub.execute_input": "2023-09-02T22:32:27.640254Z",
     "iopub.status.busy": "2023-09-02T22:32:27.639458Z",
     "iopub.status.idle": "2023-09-02T22:32:27.644513Z",
     "shell.execute_reply": "2023-09-02T22:32:27.643489Z"
    },
    "papermill": {
     "duration": 0.02027,
     "end_time": "2023-09-02T22:32:27.647138",
     "exception": false,
     "start_time": "2023-09-02T22:32:27.626868",
     "status": "completed"
    },
    "tags": []
   },
   "outputs": [],
   "source": [
    "# Uncomment to see a hint\n",
    "#q3.hint()\n",
    "\n",
    "# Uncomment to see the solution\n",
    "#q3.solution()"
   ]
  },
  {
   "cell_type": "markdown",
   "id": "53d763cd",
   "metadata": {
    "papermill": {
     "duration": 0.011602,
     "end_time": "2023-09-02T22:32:27.670470",
     "exception": false,
     "start_time": "2023-09-02T22:32:27.658868",
     "status": "completed"
    },
    "tags": []
   },
   "source": [
    "# Question 4\n",
    "\n",
    "In the Python course, you'll learn all about **list comprehensions**, which allow you to create a list based on the values in another list.  In this question, you'll get a brief preview of how they work.\n",
    "\n",
    "Say we're working with the list below."
   ]
  },
  {
   "cell_type": "code",
   "execution_count": 10,
   "id": "73811e4e",
   "metadata": {
    "execution": {
     "iopub.execute_input": "2023-09-02T22:32:27.695085Z",
     "iopub.status.busy": "2023-09-02T22:32:27.694693Z",
     "iopub.status.idle": "2023-09-02T22:32:27.699612Z",
     "shell.execute_reply": "2023-09-02T22:32:27.698546Z"
    },
    "papermill": {
     "duration": 0.020235,
     "end_time": "2023-09-02T22:32:27.702099",
     "exception": false,
     "start_time": "2023-09-02T22:32:27.681864",
     "status": "completed"
    },
    "tags": []
   },
   "outputs": [],
   "source": [
    "test_ratings = [1, 2, 3, 4, 5]"
   ]
  },
  {
   "cell_type": "markdown",
   "id": "6c9a73ef",
   "metadata": {
    "papermill": {
     "duration": 0.01276,
     "end_time": "2023-09-02T22:32:27.729003",
     "exception": false,
     "start_time": "2023-09-02T22:32:27.716243",
     "status": "completed"
    },
    "tags": []
   },
   "source": [
    "Then we can use this list (`test_ratings`) to create a new list (`test_liked`) where each item has been turned into a boolean, depending on whether or not the item is greater than or equal to four."
   ]
  },
  {
   "cell_type": "code",
   "execution_count": 11,
   "id": "49c97895",
   "metadata": {
    "execution": {
     "iopub.execute_input": "2023-09-02T22:32:27.753575Z",
     "iopub.status.busy": "2023-09-02T22:32:27.753172Z",
     "iopub.status.idle": "2023-09-02T22:32:27.759822Z",
     "shell.execute_reply": "2023-09-02T22:32:27.758605Z"
    },
    "papermill": {
     "duration": 0.021745,
     "end_time": "2023-09-02T22:32:27.762290",
     "exception": false,
     "start_time": "2023-09-02T22:32:27.740545",
     "status": "completed"
    },
    "tags": []
   },
   "outputs": [
    {
     "name": "stdout",
     "output_type": "stream",
     "text": [
      "[False, False, False, True, True]\n"
     ]
    }
   ],
   "source": [
    "test_liked = [i>=4 for i in test_ratings]\n",
    "print(test_liked)"
   ]
  },
  {
   "cell_type": "markdown",
   "id": "bbe11cd1",
   "metadata": {
    "papermill": {
     "duration": 0.01097,
     "end_time": "2023-09-02T22:32:27.784886",
     "exception": false,
     "start_time": "2023-09-02T22:32:27.773916",
     "status": "completed"
    },
    "tags": []
   },
   "source": [
    "In this question, you'll use this list comprehension to define a function `percentage_liked()` that takes one argument as input:\n",
    "- `ratings`: list of ratings that people gave to a movie, where each rating is a number between 1-5, inclusive\n",
    "\n",
    "We say someone liked the movie, if they gave a rating of either 4 or 5.  Your function should return the percentage of people who liked the movie.\n",
    "\n",
    "For instance, if we supply a value of `[1, 2, 3, 4, 5, 4, 5, 1]`, then 50% (4/8) of the people liked the movie, and the function should return `0.5`.\n",
    "\n",
    "Part of the function has already been completed for you.  You need only use `list_liked` to calculate `percentage_liked`."
   ]
  },
  {
   "cell_type": "code",
   "execution_count": 12,
   "id": "23efa20a",
   "metadata": {
    "execution": {
     "iopub.execute_input": "2023-09-02T22:32:27.809425Z",
     "iopub.status.busy": "2023-09-02T22:32:27.809053Z",
     "iopub.status.idle": "2023-09-02T22:32:27.819187Z",
     "shell.execute_reply": "2023-09-02T22:32:27.818250Z"
    },
    "papermill": {
     "duration": 0.025217,
     "end_time": "2023-09-02T22:32:27.821463",
     "exception": false,
     "start_time": "2023-09-02T22:32:27.796246",
     "status": "completed"
    },
    "tags": []
   },
   "outputs": [
    {
     "data": {
      "application/javascript": [
       "parent.postMessage({\"jupyterEvent\": \"custom.exercise_interaction\", \"data\": {\"outcomeType\": 2, \"failureMessage\": \"Expected return value of `0.5` given `ratings=[1, 2, 3, 4, 5, 4, 5, 1]`, but got `<learntools.core.constants.PlaceholderValue object at 0x7a9497a68130>` instead.\", \"interactionType\": 1, \"questionType\": 2, \"questionId\": \"4_PercentageLiked\", \"learnToolsVersion\": \"0.3.4\", \"valueTowardsCompletion\": 0.0, \"exceptionClass\": \"\", \"trace\": \"\"}}, \"*\")"
      ],
      "text/plain": [
       "<IPython.core.display.Javascript object>"
      ]
     },
     "metadata": {},
     "output_type": "display_data"
    },
    {
     "data": {
      "text/markdown": [
       "<span style=\"color:#cc3333\">Incorrect:</span> Expected return value of `0.5` given `ratings=[1, 2, 3, 4, 5, 4, 5, 1]`, but got `<learntools.core.constants.PlaceholderValue object at 0x7a9497a68130>` instead."
      ],
      "text/plain": [
       "Incorrect: Expected return value of `0.5` given `ratings=[1, 2, 3, 4, 5, 4, 5, 1]`, but got `<learntools.core.constants.PlaceholderValue object at 0x7a9497a68130>` instead."
      ]
     },
     "metadata": {},
     "output_type": "display_data"
    }
   ],
   "source": [
    "\n",
    "def percentage_liked(ratings):\n",
    "    list_liked = [i>=4 for i in ratings]\n",
    "    # TODO: Complete the function\n",
    "    percentage_liked = ____\n",
    "    return percentage_liked\n",
    "\n",
    "# Do not change: should return 0.5\n",
    "percentage_liked([1, 2, 3, 4, 5, 4, 5, 1])\n",
    "\n",
    "# Do not change: Check your answer\n",
    "q4.check()"
   ]
  },
  {
   "cell_type": "code",
   "execution_count": 13,
   "id": "908d3f98",
   "metadata": {
    "execution": {
     "iopub.execute_input": "2023-09-02T22:32:27.847741Z",
     "iopub.status.busy": "2023-09-02T22:32:27.846704Z",
     "iopub.status.idle": "2023-09-02T22:32:27.851461Z",
     "shell.execute_reply": "2023-09-02T22:32:27.850316Z"
    },
    "papermill": {
     "duration": 0.02053,
     "end_time": "2023-09-02T22:32:27.854017",
     "exception": false,
     "start_time": "2023-09-02T22:32:27.833487",
     "status": "completed"
    },
    "tags": []
   },
   "outputs": [],
   "source": [
    "# Uncomment to see a hint\n",
    "#q4.hint()\n",
    "\n",
    "# Uncomment to see the solution\n",
    "#q4.solution()"
   ]
  },
  {
   "cell_type": "markdown",
   "id": "a02c8fdc",
   "metadata": {
    "papermill": {
     "duration": 0.011866,
     "end_time": "2023-09-02T22:32:27.878041",
     "exception": false,
     "start_time": "2023-09-02T22:32:27.866175",
     "status": "completed"
    },
    "tags": []
   },
   "source": [
    "# 🌶️ Question 5\n",
    " \n",
    "Say you're doing analytics for a website.  You need to write a function that returns the percentage growth in the total number of users relative to a specified number of years ago.\n",
    "\n",
    "Your function `percentage_growth()` should take two arguments as input:\n",
    "- `num_users` = Python list with the total number of users each year.  So `num_users[0]` is the total number of users in the first year, `num_users[1]` is the total number of users in the second year, and so on.  The final entry in the list gives the total number of users in the most recently completed year.\n",
    "- `yrs_ago` = number of years to go back in time when calculating the growth percentage\n",
    "\n",
    "For instance, say `num_users = [920344, 1043553, 1204334, 1458996, 1503323, 1593432, 1623463, 1843064, 1930992, 2001078]`.\n",
    "- if `yrs_ago = 1`, we want the function to return a value of about `0.036`. This corresponds to a percentage growth of approximately 3.6%, calculated as (2001078 - 1930992)/1930992.\n",
    "- if `years_ago = 7`, we would want to return approximately `0.66`.  This corresponds to a percentage growth of approximately 66%, calculated as (2001078 - 1204334)/1204334.\n",
    "\n",
    "Your coworker sent you a draft of a function, but it doesn't seem to be doing the correct calculation.  Can you figure out what has gone wrong and make the needed changes?"
   ]
  },
  {
   "cell_type": "code",
   "execution_count": 14,
   "id": "970cca0e",
   "metadata": {
    "execution": {
     "iopub.execute_input": "2023-09-02T22:32:27.903860Z",
     "iopub.status.busy": "2023-09-02T22:32:27.903179Z",
     "iopub.status.idle": "2023-09-02T22:32:27.915468Z",
     "shell.execute_reply": "2023-09-02T22:32:27.914569Z"
    },
    "papermill": {
     "duration": 0.027708,
     "end_time": "2023-09-02T22:32:27.917573",
     "exception": false,
     "start_time": "2023-09-02T22:32:27.889865",
     "status": "completed"
    },
    "tags": []
   },
   "outputs": [
    {
     "name": "stdout",
     "output_type": "stream",
     "text": [
      "0.0\n",
      "0.2807272117129434\n"
     ]
    },
    {
     "data": {
      "application/javascript": [
       "parent.postMessage({\"jupyterEvent\": \"custom.exercise_interaction\", \"data\": {\"outcomeType\": 2, \"failureMessage\": \"Expected return value of `0.03629533421163837` given `num_users=[920344, 1043553, 1204334, 1458996, 1503323, 1593432, 1623463, 1843064, 1930992, 2001078]`, `yrs_ago=1`, but got `0.0` instead.\", \"interactionType\": 1, \"questionType\": 2, \"questionId\": \"5_WebsiteAnalytics\", \"learnToolsVersion\": \"0.3.4\", \"valueTowardsCompletion\": 0.0, \"exceptionClass\": \"\", \"trace\": \"\"}}, \"*\")"
      ],
      "text/plain": [
       "<IPython.core.display.Javascript object>"
      ]
     },
     "metadata": {},
     "output_type": "display_data"
    },
    {
     "data": {
      "text/markdown": [
       "<span style=\"color:#cc3333\">Incorrect:</span> Expected return value of `0.03629533421163837` given `num_users=[920344, 1043553, 1204334, 1458996, 1503323, 1593432, 1623463, 1843064, 1930992, 2001078]`, `yrs_ago=1`, but got `0.0` instead."
      ],
      "text/plain": [
       "Incorrect: Expected return value of `0.03629533421163837` given `num_users=[920344, 1043553, 1204334, 1458996, 1503323, 1593432, 1623463, 1843064, 1930992, 2001078]`, `yrs_ago=1`, but got `0.0` instead."
      ]
     },
     "metadata": {},
     "output_type": "display_data"
    }
   ],
   "source": [
    "# TODO: Edit the function\n",
    "def percentage_growth(num_users, yrs_ago):\n",
    "    growth = (num_users[len(num_users)-1] - num_users[len(num_users)-yrs_ago])/num_users[len(num_users)-2]\n",
    "    return growth\n",
    "\n",
    "# Do not change: Variable for calculating some test examples\n",
    "num_users_test = [920344, 1043553, 1204334, 1458996, 1503323, 1593432, 1623463, 1843064, 1930992, 2001078]\n",
    "\n",
    "# Do not change: Should return .036\n",
    "print(percentage_growth(num_users_test, 1))\n",
    "\n",
    "# Do not change: Should return 0.66\n",
    "print(percentage_growth(num_users_test, 7))\n",
    "\n",
    "# Do not change: Check your answer\n",
    "q5.check()"
   ]
  },
  {
   "cell_type": "code",
   "execution_count": 15,
   "id": "3fb38ee5",
   "metadata": {
    "execution": {
     "iopub.execute_input": "2023-09-02T22:32:27.945637Z",
     "iopub.status.busy": "2023-09-02T22:32:27.944947Z",
     "iopub.status.idle": "2023-09-02T22:32:27.948899Z",
     "shell.execute_reply": "2023-09-02T22:32:27.948121Z"
    },
    "papermill": {
     "duration": 0.021234,
     "end_time": "2023-09-02T22:32:27.951280",
     "exception": false,
     "start_time": "2023-09-02T22:32:27.930046",
     "status": "completed"
    },
    "tags": []
   },
   "outputs": [],
   "source": [
    "# Uncomment to see a hint\n",
    "#q5.hint()\n",
    "\n",
    "# Uncomment to see the solution\n",
    "#q5.solution()"
   ]
  },
  {
   "cell_type": "markdown",
   "id": "2221efbe",
   "metadata": {
    "papermill": {
     "duration": 0.013241,
     "end_time": "2023-09-02T22:32:27.977679",
     "exception": false,
     "start_time": "2023-09-02T22:32:27.964438",
     "status": "completed"
    },
    "tags": []
   },
   "source": [
    "# Congratulations!\n",
    "\n",
    "Congratulations for finishing the Intro to Programming course!  You should be proud of your very first steps with learning programming.  As next steps, we recommend taking:\n",
    "- the **[Python course](http://www.kaggle.com/learn/python)**, and \n",
    "- the **[Intro to Machine Learning course](https://www.kaggle.com/learn/intro-to-machine-learning)**."
   ]
  },
  {
   "cell_type": "markdown",
   "id": "d0dfa0b0",
   "metadata": {
    "papermill": {
     "duration": 0.012268,
     "end_time": "2023-09-02T22:32:28.002446",
     "exception": false,
     "start_time": "2023-09-02T22:32:27.990178",
     "status": "completed"
    },
    "tags": []
   },
   "source": [
    "---\n",
    "\n",
    "\n",
    "\n",
    "\n",
    "*Have questions or comments? Visit the [course discussion forum](https://www.kaggle.com/learn/intro-to-programming/discussion) to chat with other learners.*"
   ]
  }
 ],
 "kernelspec": {
  "display_name": "Python 3",
  "language": "python",
  "name": "python3"
 },
 "language_info": {
  "codemirror_mode": {
   "name": "ipython",
   "version": 3
  },
  "file_extension": ".py",
  "mimetype": "text/x-python",
  "name": "python",
  "nbconvert_exporter": "python",
  "pygments_lexer": "ipython3",
  "version": "3.6.4"
 },
 "metadata": {
  "kernelspec": {
   "display_name": "Python 3",
   "language": "python",
   "name": "python3"
  },
  "language_info": {
   "codemirror_mode": {
    "name": "ipython",
    "version": 3
   },
   "file_extension": ".py",
   "mimetype": "text/x-python",
   "name": "python",
   "nbconvert_exporter": "python",
   "pygments_lexer": "ipython3",
   "version": "3.10.12"
  },
  "papermill": {
   "default_parameters": {},
   "duration": 5.663154,
   "end_time": "2023-09-02T22:32:28.537081",
   "environment_variables": {},
   "exception": null,
   "input_path": "__notebook__.ipynb",
   "output_path": "__notebook__.ipynb",
   "parameters": {},
   "start_time": "2023-09-02T22:32:22.873927",
   "version": "2.4.0"
  }
 },
 "nbformat": 4,
 "nbformat_minor": 5
}
